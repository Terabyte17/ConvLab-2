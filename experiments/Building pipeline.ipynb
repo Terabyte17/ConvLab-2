{
 "metadata": {
  "language_info": {
   "codemirror_mode": {
    "name": "ipython",
    "version": 3
   },
   "file_extension": ".py",
   "mimetype": "text/x-python",
   "name": "python",
   "nbconvert_exporter": "python",
   "pygments_lexer": "ipython3",
   "version": "3.7.6-final"
  },
  "orig_nbformat": 2,
  "kernelspec": {
   "name": "python3",
   "display_name": "Python 3",
   "language": "python"
  }
 },
 "nbformat": 4,
 "nbformat_minor": 2,
 "cells": [
  {
   "cell_type": "code",
   "execution_count": null,
   "metadata": {},
   "outputs": [],
   "source": [
    "! git clone https://github.com/thu-coai/ConvLab-2.git && cd ConvLab-2 && pip install -e ."
   ]
  },
  {
   "cell_type": "code",
   "execution_count": 1,
   "metadata": {},
   "outputs": [],
   "source": [
    "from convlab2.nlu.jointBERT.multiwoz import BERTNLU\n",
    "from convlab2.nlu.milu.multiwoz import MILU\n",
    "from convlab2.dst.rule.multiwoz import RuleDST\n",
    "from convlab2.policy.rule.multiwoz import RulePolicy\n",
    "from convlab2.nlg.template.multiwoz import TemplateNLG\n",
    "from convlab2.dialog_agent import PipelineAgent, BiSession\n",
    "from convlab2.evaluator.multiwoz_eval import MultiWozEvaluator\n",
    "from pprint import pprint\n",
    "import random\n",
    "import numpy as np\n",
    "import torch"
   ]
  },
  {
   "cell_type": "code",
   "execution_count": 3,
   "metadata": {},
   "outputs": [
    {
     "output_type": "stream",
     "name": "stdout",
     "text": [
      "Making NLU component for TOD System Pipeline\n",
      "load train, size 8434\n",
      "load val, size 999\n",
      "load test, size 1000\n",
      "loaded train, size 113500\n",
      "loaded val, size 14730\n",
      "loaded test, size 14744\n",
      "dialog act num: 36\n",
      "sentence label num: 137\n",
      "tag num: 331\n",
      "intent num: 137\n",
      "tag num: 331\n",
      "Load from model_file param\n",
      "Load from https://convlab.blob.core.windows.net/convlab-2/bert_multiwoz_all_context.zip\n",
      "Load from c:\\users\\yashs\\onedrive\\documents\\github\\convlab-2\\tutorials\\convlab-2\\convlab2\\nlu\\jointBERT\\multiwoz/output/all_context\\pytorch_model.bin\n",
      "bert-base-uncased\n",
      "BERTNLU loaded\n",
      "Making DST component for TOD System Pipeline\n",
      "Making Policy component for TOD System Pipeline\n",
      "Making NLG component for TOD System Pipeline\n"
     ]
    },
    {
     "output_type": "error",
     "ename": "TypeError",
     "evalue": "__init__() missing 1 required positional argument: 'is_user'",
     "traceback": [
      "\u001b[1;31m---------------------------------------------------------------------------\u001b[0m",
      "\u001b[1;31mTypeError\u001b[0m                                 Traceback (most recent call last)",
      "\u001b[1;32m<ipython-input-3-edd65c398005>\u001b[0m in \u001b[0;36m<module>\u001b[1;34m\u001b[0m\n\u001b[0;32m      6\u001b[0m \u001b[0msys_policy\u001b[0m \u001b[1;33m=\u001b[0m \u001b[0mRulePolicy\u001b[0m\u001b[1;33m(\u001b[0m\u001b[1;33m)\u001b[0m\u001b[1;33m\u001b[0m\u001b[1;33m\u001b[0m\u001b[0m\n\u001b[0;32m      7\u001b[0m \u001b[0mprint\u001b[0m\u001b[1;33m(\u001b[0m\u001b[1;34m\"Making NLG component for TOD System Pipeline\"\u001b[0m\u001b[1;33m)\u001b[0m\u001b[1;33m\u001b[0m\u001b[1;33m\u001b[0m\u001b[0m\n\u001b[1;32m----> 8\u001b[1;33m \u001b[0msys_nlg\u001b[0m \u001b[1;33m=\u001b[0m \u001b[0mTemplateNLG\u001b[0m\u001b[1;33m(\u001b[0m\u001b[1;33m)\u001b[0m\u001b[1;33m\u001b[0m\u001b[1;33m\u001b[0m\u001b[0m\n\u001b[0m\u001b[0;32m      9\u001b[0m \u001b[1;33m\u001b[0m\u001b[0m\n\u001b[0;32m     10\u001b[0m \u001b[0mprint\u001b[0m\u001b[1;33m(\u001b[0m\u001b[1;34m\"Combining all components into a single Pipeline\"\u001b[0m\u001b[1;33m)\u001b[0m\u001b[1;33m\u001b[0m\u001b[1;33m\u001b[0m\u001b[0m\n",
      "\u001b[1;31mTypeError\u001b[0m: __init__() missing 1 required positional argument: 'is_user'"
     ]
    }
   ],
   "source": [
    "print(\"Making NLU component for TOD System Pipeline\")\n",
    "sys_nlu = BERTNLU()\n",
    "print(\"Making DST component for TOD System Pipeline\")\n",
    "sys_dst = RuleDST()\n",
    "print(\"Making Policy component for TOD System Pipeline\")\n",
    "sys_policy = RulePolicy()\n",
    "print(\"Making NLG component for TOD System Pipeline\")\n",
    "sys_nlg = TemplateNLG(is_user=False)\n",
    "\n",
    "print(\"Combining all components into a single Pipeline\")\n",
    "agent = PipelineAgent(nlu=sys_nlu, dst=sys_dst, policy=sys_policy, nlg=sys_nlg, name='sys') \n",
    "#name should be sys or user or all"
   ]
  },
  {
   "cell_type": "code",
   "execution_count": 1,
   "metadata": {},
   "outputs": [
    {
     "output_type": "stream",
     "name": "stdout",
     "text": [
      "Making NLU component for User\n"
     ]
    },
    {
     "output_type": "error",
     "ename": "NameError",
     "evalue": "name 'BERTNLU' is not defined",
     "traceback": [
      "\u001b[1;31m---------------------------------------------------------------------------\u001b[0m",
      "\u001b[1;31mNameError\u001b[0m                                 Traceback (most recent call last)",
      "\u001b[1;32m<ipython-input-1-c182c112befc>\u001b[0m in \u001b[0;36m<module>\u001b[1;34m\u001b[0m\n\u001b[0;32m      1\u001b[0m \u001b[0mprint\u001b[0m\u001b[1;33m(\u001b[0m\u001b[1;34m\"Making NLU component for User\"\u001b[0m\u001b[1;33m)\u001b[0m\u001b[1;33m\u001b[0m\u001b[1;33m\u001b[0m\u001b[0m\n\u001b[1;32m----> 2\u001b[1;33m \u001b[0muser_nlu\u001b[0m \u001b[1;33m=\u001b[0m \u001b[0mBERTNLU\u001b[0m\u001b[1;33m(\u001b[0m\u001b[1;33m)\u001b[0m\u001b[1;33m\u001b[0m\u001b[1;33m\u001b[0m\u001b[0m\n\u001b[0m\u001b[0;32m      3\u001b[0m \u001b[0muser_DST\u001b[0m \u001b[1;33m=\u001b[0m \u001b[1;32mNone\u001b[0m\u001b[1;33m\u001b[0m\u001b[1;33m\u001b[0m\u001b[0m\n\u001b[0;32m      4\u001b[0m \u001b[0mprint\u001b[0m\u001b[1;33m(\u001b[0m\u001b[1;34m\"Making Policy component for User\"\u001b[0m\u001b[1;33m)\u001b[0m\u001b[1;33m\u001b[0m\u001b[1;33m\u001b[0m\u001b[0m\n\u001b[0;32m      5\u001b[0m \u001b[0muser_policy\u001b[0m \u001b[1;33m=\u001b[0m \u001b[0mRulePolicy\u001b[0m\u001b[1;33m(\u001b[0m\u001b[0mcharacter\u001b[0m\u001b[1;33m=\u001b[0m\u001b[1;34m'usr'\u001b[0m\u001b[1;33m)\u001b[0m\u001b[1;33m\u001b[0m\u001b[1;33m\u001b[0m\u001b[0m\n",
      "\u001b[1;31mNameError\u001b[0m: name 'BERTNLU' is not defined"
     ]
    }
   ],
   "source": [
    "print(\"Making NLU component for User\")\n",
    "user_nlu = BERTNLU()\n",
    "\n",
    "print(\"Setting User DST to None\")\n",
    "user_DST = None\n",
    "\n",
    "print(\"Making Policy component for User\")\n",
    "user_policy = RulePolicy(character='usr')\n",
    "\n",
    "print(\"Making NLG component for User\")\n",
    "user_NLG = templateNLG(is_user=True)\n",
    "\n",
    "user_agent = PipelineAgent(nlu=user_nlu, dst=user_DST, policy=user_policy, nlg=user_NLG, name='user')"
   ]
  },
  {
   "cell_type": "code",
   "execution_count": null,
   "metadata": {},
   "outputs": [],
   "source": [
    "evaluator = MultiWozEvaluator()\n",
    "sess = BiSession(sys_agent=sys_agent, user_agent=user_agent, kb_query=None, evaluator=evaluator)"
   ]
  },
  {
   "cell_type": "code",
   "execution_count": 1,
   "metadata": {},
   "outputs": [
    {
     "output_type": "error",
     "ename": "SyntaxError",
     "evalue": "unexpected EOF while parsing (<ipython-input-1-a94005eb6b9c>, line 14)",
     "traceback": [
      "\u001b[1;36m  File \u001b[1;32m\"<ipython-input-1-a94005eb6b9c>\"\u001b[1;36m, line \u001b[1;32m14\u001b[0m\n\u001b[1;33m    for i in range(20):\u001b[0m\n\u001b[1;37m                       ^\u001b[0m\n\u001b[1;31mSyntaxError\u001b[0m\u001b[1;31m:\u001b[0m unexpected EOF while parsing\n"
     ]
    }
   ],
   "source": [
    "#setting all random seeds to the same value\n",
    "def set_seed(r_seed):\n",
    "    random.seed(r_seed)\n",
    "    np.random.seed(r_seed)\n",
    "    torch.manual_seed(r_seed)\n",
    "\n",
    "set_seed(20210101)\n",
    "\n",
    "sys_response = ''\n",
    "sess.init_session()\n",
    "print(\"init goal:\")\n",
    "pprint(sess.evaluator.goal)\n",
    "print('-'*50)\n",
    "rewards = []\n",
    "for i in range(20):\n",
    "    sys_response, user_response, session_over, reward = sess.next_turn(sys_response)\n",
    "    print(\"user: \" + user_response)\n",
    "    print(\"sys: \" + sys_response)\n",
    "    rewards.append(reward)\n",
    "    if session_over:\n",
    "        print(\"Session Ended\")\n",
    "        break\n",
    "print('task success: ', sess.evaluator.task_success())\n",
    "print('book rate: ', sess.evaluator.book_rate())\n",
    "print('inform precision/recall/f1:', sess.evaluator.inform_F1())\n",
    "print('-'*50)\n",
    "print('Final Goal:')\n",
    "print(sess.evaluator.goal)"
   ]
  },
  {
   "cell_type": "code",
   "execution_count": null,
   "metadata": {},
   "outputs": [],
   "source": []
  }
 ]
}